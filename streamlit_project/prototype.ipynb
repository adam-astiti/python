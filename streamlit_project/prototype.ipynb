{
 "cells": [
  {
   "cell_type": "code",
   "execution_count": 32,
   "id": "2175f8e6",
   "metadata": {},
   "outputs": [],
   "source": [
    "import pandas as pd\n",
    "import matplotlib.pyplot as plt \n",
    "import numpy as np \n",
    "import seaborn as sns"
   ]
  },
  {
   "cell_type": "code",
   "execution_count": 33,
   "id": "ec19905e",
   "metadata": {},
   "outputs": [],
   "source": [
    "df = pd.read_csv(r\"D:\\Project\\pizza\\Raw_data_pizza_sales.csv\")"
   ]
  },
  {
   "cell_type": "code",
   "execution_count": 34,
   "id": "6de16aa9",
   "metadata": {},
   "outputs": [
    {
     "data": {
      "text/plain": [
       "Text(0.5, 1.0, 'count pizaa by pizza category')"
      ]
     },
     "execution_count": 34,
     "metadata": {},
     "output_type": "execute_result"
    },
    {
     "data": {
      "image/png": "[encoded data removed]",
      "text/plain": [
       "<Figure size 1000x500 with 1 Axes>"
      ]
     },
     "metadata": {},
     "output_type": "display_data"
    }
   ],
   "source": [
    "fig1, ax = plt.subplots(figsize=(10,5))\n",
    "sns.countplot(data=df, x='pizza_category', ax=ax, color='black')\n",
    "ax.set_title('count pizaa by pizza category')"
   ]
  },
  {
   "cell_type": "code",
   "execution_count": 35,
   "id": "2ec68e7c",
   "metadata": {},
   "outputs": [
    {
     "data": {
      "text/plain": [
       "Index(['pizza_id', 'order_id', 'pizza_name_id', 'quantity', 'order_date',\n",
       "       'order_time', 'unit_price', 'total_price', 'pizza_size',\n",
       "       'pizza_category', 'pizza_ingredients', 'pizza_name'],\n",
       "      dtype='object')"
      ]
     },
     "execution_count": 35,
     "metadata": {},
     "output_type": "execute_result"
    }
   ],
   "source": [
    "df.columns"
   ]
  },
  {
   "cell_type": "code",
   "execution_count": 36,
   "id": "b828bbda",
   "metadata": {},
   "outputs": [
    {
     "data": {
      "text/plain": [
       "pizza_name\n",
       "The Classic Deluxe Pizza      2416\n",
       "The Barbecue Chicken Pizza    2372\n",
       "The Hawaiian Pizza            2370\n",
       "The Pepperoni Pizza           2369\n",
       "The Thai Chicken Pizza        2315\n",
       "Name: count, dtype: int64"
      ]
     },
     "execution_count": 36,
     "metadata": {},
     "output_type": "execute_result"
    }
   ],
   "source": [
    "df.pizza_name.value_counts().sort_values(ascending=False).head(5)"
   ]
  },
  {
   "cell_type": "code",
   "execution_count": 37,
   "id": "e067e602",
   "metadata": {},
   "outputs": [
    {
     "data": {
      "text/plain": [
       "0          January\n",
       "4156      February\n",
       "8048         March\n",
       "12234        April\n",
       "16301          May\n",
       "20540         June\n",
       "24565         July\n",
       "28866       August\n",
       "32960    September\n",
       "36779      October\n",
       "40576     November\n",
       "44761     December\n",
       "Name: month, dtype: object"
      ]
     },
     "execution_count": 37,
     "metadata": {},
     "output_type": "execute_result"
    }
   ],
   "source": [
    "df['order_date'] = pd.to_datetime(df['order_date'])\n",
    "df['month'] = df['order_date'].dt.month_name()\n",
    "df['month_number'] = df['order_date'].dt.month\n",
    "\n",
    "month_order = df.month.value_counts()\n",
    "\n",
    "df[['month_number', 'month']].drop_duplicates().month"
   ]
  },
  {
   "cell_type": "code",
   "execution_count": 38,
   "id": "38c52167",
   "metadata": {},
   "outputs": [
    {
     "data": {
      "text/plain": [
       "0        3\n",
       "1        3\n",
       "2        3\n",
       "3        3\n",
       "4        3\n",
       "        ..\n",
       "48615    3\n",
       "48616    3\n",
       "48617    3\n",
       "48618    3\n",
       "48619    3\n",
       "Name: day_number, Length: 48620, dtype: int32"
      ]
     },
     "execution_count": 38,
     "metadata": {},
     "output_type": "execute_result"
    }
   ],
   "source": [
    "df['day'] = df['order_date'].dt.day_name()\n",
    "df['day_number'] = df['order_date'].dt.day_of_week\n",
    "df['day_number']"
   ]
  },
  {
   "cell_type": "code",
   "execution_count": 39,
   "id": "cc477b37",
   "metadata": {},
   "outputs": [
    {
     "name": "stderr",
     "output_type": "stream",
     "text": [
      "C:\\Users\\hp\\AppData\\Local\\Temp\\ipykernel_16596\\1890354849.py:1: UserWarning: Could not infer format, so each element will be parsed individually, falling back to `dateutil`. To ensure parsing is consistent and as-expected, please specify a format.\n",
      "  df['order_time'] = pd.to_datetime(df['order_time'])\n"
     ]
    },
    {
     "data": {
      "text/plain": [
       "0        11\n",
       "1        11\n",
       "2        11\n",
       "3        11\n",
       "4        11\n",
       "         ..\n",
       "48615    21\n",
       "48616    21\n",
       "48617    21\n",
       "48618    22\n",
       "48619    23\n",
       "Name: hour, Length: 48620, dtype: int32"
      ]
     },
     "execution_count": 39,
     "metadata": {},
     "output_type": "execute_result"
    }
   ],
   "source": [
    "df['order_time'] = pd.to_datetime(df['order_time'])\n",
    "df['hour'] = df['order_time'].dt.hour\n",
    "df.hour"
   ]
  },
  {
   "cell_type": "code",
   "execution_count": 40,
   "id": "7b9e0e2a",
   "metadata": {},
   "outputs": [],
   "source": [
    "month_order = df[['month_number', 'month']].drop_duplicates().sort_values(by='month_number', ascending=True).month"
   ]
  },
  {
   "cell_type": "code",
   "execution_count": 41,
   "id": "02511a08",
   "metadata": {},
   "outputs": [],
   "source": [
    "monthly_revenue = df.groupby(['month'])['total_price'].sum().reindex(month_order)"
   ]
  },
  {
   "cell_type": "code",
   "execution_count": 42,
   "id": "eb9f222f",
   "metadata": {},
   "outputs": [],
   "source": [
    "all_category = np.append(df['pizza_category'].unique(), 'All')"
   ]
  },
  {
   "cell_type": "code",
   "execution_count": 43,
   "id": "79d9ea9f",
   "metadata": {},
   "outputs": [
    {
     "data": {
      "text/plain": [
       "array(['Classic', 'Veggie', 'Supreme', 'Chicken', 'All'], dtype=object)"
      ]
     },
     "execution_count": 43,
     "metadata": {},
     "output_type": "execute_result"
    }
   ],
   "source": [
    "a"
   ]
  },
  {
   "cell_type": "code",
   "execution_count": 44,
   "id": "ada3b0c8",
   "metadata": {},
   "outputs": [
    {
     "name": "stderr",
     "output_type": "stream",
     "text": [
      "C:\\Users\\hp\\AppData\\Local\\Temp\\ipykernel_16596\\1273486747.py:8: UserWarning: Could not infer format, so each element will be parsed individually, falling back to `dateutil`. To ensure parsing is consistent and as-expected, please specify a format.\n",
      "  df['order_time'] = pd.to_datetime(df['order_time'])\n"
     ]
    }
   ],
   "source": [
    "def load_and_clean_data():\n",
    "    df = pd.read_csv(r\"D:\\Project\\pizza\\Raw_data_pizza_sales.csv\")\n",
    "    df['order_date'] = pd.to_datetime(df['order_date'])\n",
    "    df['month'] = df['order_date'].dt.month_name()\n",
    "    df['month_number'] = df['order_date'].dt.month\n",
    "    df['day'] = df['order_date'].dt.day_name()\n",
    "    df['day_number'] = df['order_date'].dt.day_of_week\n",
    "    df['order_time'] = pd.to_datetime(df['order_time'])\n",
    "    df['hour'] = df['order_time'].dt.hour\n",
    "    return df\n",
    "\n",
    "df = load_and_clean_data()\n",
    "\n",
    "\n",
    "\n",
    "all_category = np.append(df['pizza_category'].unique(), 'All')"
   ]
  },
  {
   "cell_type": "code",
   "execution_count": 47,
   "id": "5b4a751e",
   "metadata": {},
   "outputs": [
    {
     "data": {
      "text/plain": [
       "array(['Classic', 'Veggie', 'Supreme', 'Chicken', 'All'], dtype=object)"
      ]
     },
     "execution_count": 47,
     "metadata": {},
     "output_type": "execute_result"
    }
   ],
   "source": [
    "all_category"
   ]
  }
 ],
 "metadata": {
  "kernelspec": {
   "display_name": "streamlit_project",
   "language": "python",
   "name": "python3"
  },
  "language_info": {
   "codemirror_mode": {
    "name": "ipython",
    "version": 3
   },
   "file_extension": ".py",
   "mimetype": "text/x-python",
   "name": "python",
   "nbconvert_exporter": "python",
   "pygments_lexer": "ipython3",
   "version": "3.12.7"
  }
 },
 "nbformat": 4,
 "nbformat_minor": 5
}
